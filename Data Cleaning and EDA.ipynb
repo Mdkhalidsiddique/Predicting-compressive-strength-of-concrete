{
 "cells": [
  {
   "cell_type": "markdown",
   "metadata": {},
   "source": [
    "# Predicting Compressive Strength of Concrete"
   ]
  },
  {
   "cell_type": "markdown",
   "metadata": {},
   "source": [
    "# Compressive strength or compression strength is the capacity of a material or structure to withstand loads tending to reduce size, as opposed to tensile strength, which withstands loads tending to elongate.\n",
    "\n",
    "compressive strength is one of the most important engineering properties of concrete. It is a standard industrial practice that the concrete is classified based on grades. This grade is nothing but the Compressive Strength of the concrete cube or cylinder. Cube or Cylinder samples are usually tested under a compression testing machine to obtain the compressive strength of concrete. The test requisites differ country to country based on the design code.\n",
    "\n",
    "The concrete compressive strength is a highly nonlinear function of age and ingredients .These ingredients include cement, blast furnace slag, fly ash, water, superplasticizer, coarse aggregate, and fine aggregate.\n",
    "\n",
    "Name -- Data Type -- Measurement -- Description\n",
    "Cement (component 1) -- quantitative -- kg in a m3 mixture -- Input\n",
    "Variable\n",
    "\n",
    "Blast Furnace Slag (component 2) -- quantitative -- kg in\n",
    "a m3 mixture -- Input Variable\n",
    "\n",
    "Fly Ash (component 3) --\n",
    "quantitative -- kg in a m3 mixture -- Input Variable\n",
    "\n",
    "Water\n",
    "(component 4) -- quantitative -- kg in a m3 mixture -- Input\n",
    "Variable\n",
    "\n",
    "Superplasticizer (component 5) -- quantitative -- kg in a\n",
    "m3 mixture -- Input Variable\n",
    "\n",
    "Coarse Aggregate (component 6) --\n",
    "quantitative -- kg in a m3 mixture -- Input Variable\n",
    "\n",
    "Fine Aggregate\n",
    "(component 7) -- quantitative -- kg in a m3 mixture -- Input\n",
    "Variable\n",
    "\n",
    "Age -- quantitative -- Day (1~365) -- Input Variable\n",
    "\n",
    "Concrete compressive strength -- quantitative -- MPa -- Output\n",
    "Variable\n",
    "\n"
   ]
  },
  {
   "cell_type": "code",
   "execution_count": 1,
   "metadata": {},
   "outputs": [],
   "source": [
    "#Importing the libraries\n",
    "import pandas as pd\n",
    "import numpy as np\n",
    "import matplotlib.pyplot as plt\n",
    "import seaborn as sns\n",
    "import itertools\n",
    "%matplotlib inline"
   ]
  },
  {
   "cell_type": "code",
   "execution_count": 2,
   "metadata": {},
   "outputs": [
    {
     "data": {
      "text/html": [
       "<div>\n",
       "<style scoped>\n",
       "    .dataframe tbody tr th:only-of-type {\n",
       "        vertical-align: middle;\n",
       "    }\n",
       "\n",
       "    .dataframe tbody tr th {\n",
       "        vertical-align: top;\n",
       "    }\n",
       "\n",
       "    .dataframe thead th {\n",
       "        text-align: right;\n",
       "    }\n",
       "</style>\n",
       "<table border=\"1\" class=\"dataframe\">\n",
       "  <thead>\n",
       "    <tr style=\"text-align: right;\">\n",
       "      <th></th>\n",
       "      <th>Cement (component 1)(kg in a m^3 mixture)</th>\n",
       "      <th>Blast Furnace Slag (component 2)(kg in a m^3 mixture)</th>\n",
       "      <th>Fly Ash (component 3)(kg in a m^3 mixture)</th>\n",
       "      <th>Water</th>\n",
       "      <th>Superplasticizer (component 5)(kg in a m^3 mixture)</th>\n",
       "      <th>Coarse_agg</th>\n",
       "      <th>Fine Aggregate (component 7)(kg in a m^3 mixture)</th>\n",
       "      <th>Age (day)</th>\n",
       "      <th>Strength</th>\n",
       "    </tr>\n",
       "  </thead>\n",
       "  <tbody>\n",
       "    <tr>\n",
       "      <th>0</th>\n",
       "      <td>540.0</td>\n",
       "      <td>0.0</td>\n",
       "      <td>0.0</td>\n",
       "      <td>162.0</td>\n",
       "      <td>2.5</td>\n",
       "      <td>1040.0</td>\n",
       "      <td>676.0</td>\n",
       "      <td>28</td>\n",
       "      <td>79.99</td>\n",
       "    </tr>\n",
       "    <tr>\n",
       "      <th>1</th>\n",
       "      <td>540.0</td>\n",
       "      <td>0.0</td>\n",
       "      <td>0.0</td>\n",
       "      <td>162.0</td>\n",
       "      <td>2.5</td>\n",
       "      <td>1055.0</td>\n",
       "      <td>676.0</td>\n",
       "      <td>28</td>\n",
       "      <td>61.89</td>\n",
       "    </tr>\n",
       "    <tr>\n",
       "      <th>2</th>\n",
       "      <td>332.5</td>\n",
       "      <td>142.5</td>\n",
       "      <td>0.0</td>\n",
       "      <td>228.0</td>\n",
       "      <td>0.0</td>\n",
       "      <td>932.0</td>\n",
       "      <td>594.0</td>\n",
       "      <td>270</td>\n",
       "      <td>40.27</td>\n",
       "    </tr>\n",
       "    <tr>\n",
       "      <th>3</th>\n",
       "      <td>332.5</td>\n",
       "      <td>142.5</td>\n",
       "      <td>0.0</td>\n",
       "      <td>228.0</td>\n",
       "      <td>0.0</td>\n",
       "      <td>932.0</td>\n",
       "      <td>594.0</td>\n",
       "      <td>365</td>\n",
       "      <td>41.05</td>\n",
       "    </tr>\n",
       "    <tr>\n",
       "      <th>4</th>\n",
       "      <td>198.6</td>\n",
       "      <td>132.4</td>\n",
       "      <td>0.0</td>\n",
       "      <td>192.0</td>\n",
       "      <td>0.0</td>\n",
       "      <td>978.4</td>\n",
       "      <td>825.5</td>\n",
       "      <td>360</td>\n",
       "      <td>44.30</td>\n",
       "    </tr>\n",
       "  </tbody>\n",
       "</table>\n",
       "</div>"
      ],
      "text/plain": [
       "   Cement (component 1)(kg in a m^3 mixture)  \\\n",
       "0                                      540.0   \n",
       "1                                      540.0   \n",
       "2                                      332.5   \n",
       "3                                      332.5   \n",
       "4                                      198.6   \n",
       "\n",
       "   Blast Furnace Slag (component 2)(kg in a m^3 mixture)  \\\n",
       "0                                                0.0       \n",
       "1                                                0.0       \n",
       "2                                              142.5       \n",
       "3                                              142.5       \n",
       "4                                              132.4       \n",
       "\n",
       "   Fly Ash (component 3)(kg in a m^3 mixture)  Water  \\\n",
       "0                                         0.0  162.0   \n",
       "1                                         0.0  162.0   \n",
       "2                                         0.0  228.0   \n",
       "3                                         0.0  228.0   \n",
       "4                                         0.0  192.0   \n",
       "\n",
       "   Superplasticizer (component 5)(kg in a m^3 mixture)  Coarse_agg  \\\n",
       "0                                                2.5        1040.0   \n",
       "1                                                2.5        1055.0   \n",
       "2                                                0.0         932.0   \n",
       "3                                                0.0         932.0   \n",
       "4                                                0.0         978.4   \n",
       "\n",
       "   Fine Aggregate (component 7)(kg in a m^3 mixture)  Age (day)  Strength  \n",
       "0                                              676.0         28     79.99  \n",
       "1                                              676.0         28     61.89  \n",
       "2                                              594.0        270     40.27  \n",
       "3                                              594.0        365     41.05  \n",
       "4                                              825.5        360     44.30  "
      ]
     },
     "execution_count": 2,
     "metadata": {},
     "output_type": "execute_result"
    }
   ],
   "source": [
    "#Lets now load our data set\n",
    "df = pd.read_csv(\"Concrete_compressive_strength.csv\")\n",
    "df.head()"
   ]
  },
  {
   "cell_type": "code",
   "execution_count": 3,
   "metadata": {},
   "outputs": [
    {
     "data": {
      "text/plain": [
       "(1030, 9)"
      ]
     },
     "execution_count": 3,
     "metadata": {},
     "output_type": "execute_result"
    }
   ],
   "source": [
    "df.shape"
   ]
  },
  {
   "cell_type": "markdown",
   "metadata": {},
   "source": [
    "We have only numeric values in our dataset"
   ]
  },
  {
   "cell_type": "markdown",
   "metadata": {},
   "source": [
    "Looking at the dataset, we have 1030 rows and 9 features."
   ]
  },
  {
   "cell_type": "markdown",
   "metadata": {},
   "source": [
    "The name of the columns are a bit lengthy lets shorten them as per our requirement"
   ]
  },
  {
   "cell_type": "code",
   "execution_count": 4,
   "metadata": {},
   "outputs": [
    {
     "data": {
      "text/html": [
       "<div>\n",
       "<style scoped>\n",
       "    .dataframe tbody tr th:only-of-type {\n",
       "        vertical-align: middle;\n",
       "    }\n",
       "\n",
       "    .dataframe tbody tr th {\n",
       "        vertical-align: top;\n",
       "    }\n",
       "\n",
       "    .dataframe thead th {\n",
       "        text-align: right;\n",
       "    }\n",
       "</style>\n",
       "<table border=\"1\" class=\"dataframe\">\n",
       "  <thead>\n",
       "    <tr style=\"text-align: right;\">\n",
       "      <th></th>\n",
       "      <th>Cement</th>\n",
       "      <th>Slag</th>\n",
       "      <th>Ash</th>\n",
       "      <th>Water</th>\n",
       "      <th>Superplastic</th>\n",
       "      <th>Coarse_agg</th>\n",
       "      <th>Fine_agg</th>\n",
       "      <th>Age</th>\n",
       "      <th>Strength</th>\n",
       "    </tr>\n",
       "  </thead>\n",
       "  <tbody>\n",
       "    <tr>\n",
       "      <th>0</th>\n",
       "      <td>540.0</td>\n",
       "      <td>0.0</td>\n",
       "      <td>0.0</td>\n",
       "      <td>162.0</td>\n",
       "      <td>2.5</td>\n",
       "      <td>1040.0</td>\n",
       "      <td>676.0</td>\n",
       "      <td>28</td>\n",
       "      <td>79.99</td>\n",
       "    </tr>\n",
       "    <tr>\n",
       "      <th>1</th>\n",
       "      <td>540.0</td>\n",
       "      <td>0.0</td>\n",
       "      <td>0.0</td>\n",
       "      <td>162.0</td>\n",
       "      <td>2.5</td>\n",
       "      <td>1055.0</td>\n",
       "      <td>676.0</td>\n",
       "      <td>28</td>\n",
       "      <td>61.89</td>\n",
       "    </tr>\n",
       "    <tr>\n",
       "      <th>2</th>\n",
       "      <td>332.5</td>\n",
       "      <td>142.5</td>\n",
       "      <td>0.0</td>\n",
       "      <td>228.0</td>\n",
       "      <td>0.0</td>\n",
       "      <td>932.0</td>\n",
       "      <td>594.0</td>\n",
       "      <td>270</td>\n",
       "      <td>40.27</td>\n",
       "    </tr>\n",
       "    <tr>\n",
       "      <th>3</th>\n",
       "      <td>332.5</td>\n",
       "      <td>142.5</td>\n",
       "      <td>0.0</td>\n",
       "      <td>228.0</td>\n",
       "      <td>0.0</td>\n",
       "      <td>932.0</td>\n",
       "      <td>594.0</td>\n",
       "      <td>365</td>\n",
       "      <td>41.05</td>\n",
       "    </tr>\n",
       "    <tr>\n",
       "      <th>4</th>\n",
       "      <td>198.6</td>\n",
       "      <td>132.4</td>\n",
       "      <td>0.0</td>\n",
       "      <td>192.0</td>\n",
       "      <td>0.0</td>\n",
       "      <td>978.4</td>\n",
       "      <td>825.5</td>\n",
       "      <td>360</td>\n",
       "      <td>44.30</td>\n",
       "    </tr>\n",
       "  </tbody>\n",
       "</table>\n",
       "</div>"
      ],
      "text/plain": [
       "   Cement   Slag  Ash  Water  Superplastic  Coarse_agg  Fine_agg  Age  \\\n",
       "0   540.0    0.0  0.0  162.0           2.5      1040.0     676.0   28   \n",
       "1   540.0    0.0  0.0  162.0           2.5      1055.0     676.0   28   \n",
       "2   332.5  142.5  0.0  228.0           0.0       932.0     594.0  270   \n",
       "3   332.5  142.5  0.0  228.0           0.0       932.0     594.0  365   \n",
       "4   198.6  132.4  0.0  192.0           0.0       978.4     825.5  360   \n",
       "\n",
       "   Strength  \n",
       "0     79.99  \n",
       "1     61.89  \n",
       "2     40.27  \n",
       "3     41.05  \n",
       "4     44.30  "
      ]
     },
     "execution_count": 4,
     "metadata": {},
     "output_type": "execute_result"
    }
   ],
   "source": [
    "df = df.rename(columns={\"Cement (component 1)(kg in a m^3 mixture)\":\"Cement\",\"Blast Furnace Slag (component 2)(kg in a m^3 mixture)\":\"Slag\",\"Fly Ash (component 3)(kg in a m^3 mixture)\":\"Ash\",\"Water (component 4)(kg in a m^3 mixture)\":\"Water\",\"Superplasticizer (component 5)(kg in a m^3 mixture)\":\"Superplastic\",\"Coarse Aggregate (component 6)(kg in a m^3 mixture)\":\"Coarse_agg\",\"Fine Aggregate (component 7)(kg in a m^3 mixture)\":\"Fine_agg\",\"Age (day)\":\"Age\",\"Concrete compressive strength(MPa, megapascals)\":\"Strength\"})\n",
    "df.head()"
   ]
  },
  {
   "cell_type": "markdown",
   "metadata": {},
   "source": [
    "Lets check for the datatype is our dataset"
   ]
  },
  {
   "cell_type": "code",
   "execution_count": 5,
   "metadata": {},
   "outputs": [
    {
     "data": {
      "text/plain": [
       "Cement          float64\n",
       "Slag            float64\n",
       "Ash             float64\n",
       "Water           float64\n",
       "Superplastic    float64\n",
       "Coarse_agg      float64\n",
       "Fine_agg        float64\n",
       "Age               int64\n",
       "Strength        float64\n",
       "dtype: object"
      ]
     },
     "execution_count": 5,
     "metadata": {},
     "output_type": "execute_result"
    }
   ],
   "source": [
    "df.dtypes"
   ]
  },
  {
   "cell_type": "markdown",
   "metadata": {},
   "source": [
    "Checking for null values"
   ]
  },
  {
   "cell_type": "code",
   "execution_count": 6,
   "metadata": {},
   "outputs": [
    {
     "data": {
      "text/plain": [
       "Cement          0\n",
       "Slag            0\n",
       "Ash             0\n",
       "Water           0\n",
       "Superplastic    0\n",
       "Coarse_agg      0\n",
       "Fine_agg        0\n",
       "Age             0\n",
       "Strength        0\n",
       "dtype: int64"
      ]
     },
     "execution_count": 6,
     "metadata": {},
     "output_type": "execute_result"
    }
   ],
   "source": [
    "df.isna().sum()"
   ]
  },
  {
   "cell_type": "markdown",
   "metadata": {},
   "source": [
    "Statistical summary of our dataset"
   ]
  },
  {
   "cell_type": "code",
   "execution_count": 7,
   "metadata": {},
   "outputs": [
    {
     "data": {
      "text/html": [
       "<div>\n",
       "<style scoped>\n",
       "    .dataframe tbody tr th:only-of-type {\n",
       "        vertical-align: middle;\n",
       "    }\n",
       "\n",
       "    .dataframe tbody tr th {\n",
       "        vertical-align: top;\n",
       "    }\n",
       "\n",
       "    .dataframe thead th {\n",
       "        text-align: right;\n",
       "    }\n",
       "</style>\n",
       "<table border=\"1\" class=\"dataframe\">\n",
       "  <thead>\n",
       "    <tr style=\"text-align: right;\">\n",
       "      <th></th>\n",
       "      <th>count</th>\n",
       "      <th>mean</th>\n",
       "      <th>std</th>\n",
       "      <th>min</th>\n",
       "      <th>25%</th>\n",
       "      <th>50%</th>\n",
       "      <th>75%</th>\n",
       "      <th>max</th>\n",
       "    </tr>\n",
       "  </thead>\n",
       "  <tbody>\n",
       "    <tr>\n",
       "      <th>Cement</th>\n",
       "      <td>1030.0</td>\n",
       "      <td>281.167864</td>\n",
       "      <td>104.506364</td>\n",
       "      <td>102.00</td>\n",
       "      <td>192.375</td>\n",
       "      <td>272.900</td>\n",
       "      <td>350.000</td>\n",
       "      <td>540.0</td>\n",
       "    </tr>\n",
       "    <tr>\n",
       "      <th>Slag</th>\n",
       "      <td>1030.0</td>\n",
       "      <td>73.895825</td>\n",
       "      <td>86.279342</td>\n",
       "      <td>0.00</td>\n",
       "      <td>0.000</td>\n",
       "      <td>22.000</td>\n",
       "      <td>142.950</td>\n",
       "      <td>359.4</td>\n",
       "    </tr>\n",
       "    <tr>\n",
       "      <th>Ash</th>\n",
       "      <td>1030.0</td>\n",
       "      <td>54.188350</td>\n",
       "      <td>63.997004</td>\n",
       "      <td>0.00</td>\n",
       "      <td>0.000</td>\n",
       "      <td>0.000</td>\n",
       "      <td>118.300</td>\n",
       "      <td>200.1</td>\n",
       "    </tr>\n",
       "    <tr>\n",
       "      <th>Water</th>\n",
       "      <td>1030.0</td>\n",
       "      <td>181.567282</td>\n",
       "      <td>21.354219</td>\n",
       "      <td>121.80</td>\n",
       "      <td>164.900</td>\n",
       "      <td>185.000</td>\n",
       "      <td>192.000</td>\n",
       "      <td>247.0</td>\n",
       "    </tr>\n",
       "    <tr>\n",
       "      <th>Superplastic</th>\n",
       "      <td>1030.0</td>\n",
       "      <td>6.204660</td>\n",
       "      <td>5.973841</td>\n",
       "      <td>0.00</td>\n",
       "      <td>0.000</td>\n",
       "      <td>6.400</td>\n",
       "      <td>10.200</td>\n",
       "      <td>32.2</td>\n",
       "    </tr>\n",
       "    <tr>\n",
       "      <th>Coarse_agg</th>\n",
       "      <td>1030.0</td>\n",
       "      <td>972.918932</td>\n",
       "      <td>77.753954</td>\n",
       "      <td>801.00</td>\n",
       "      <td>932.000</td>\n",
       "      <td>968.000</td>\n",
       "      <td>1029.400</td>\n",
       "      <td>1145.0</td>\n",
       "    </tr>\n",
       "    <tr>\n",
       "      <th>Fine_agg</th>\n",
       "      <td>1030.0</td>\n",
       "      <td>773.580485</td>\n",
       "      <td>80.175980</td>\n",
       "      <td>594.00</td>\n",
       "      <td>730.950</td>\n",
       "      <td>779.500</td>\n",
       "      <td>824.000</td>\n",
       "      <td>992.6</td>\n",
       "    </tr>\n",
       "    <tr>\n",
       "      <th>Age</th>\n",
       "      <td>1030.0</td>\n",
       "      <td>45.662136</td>\n",
       "      <td>63.169912</td>\n",
       "      <td>1.00</td>\n",
       "      <td>7.000</td>\n",
       "      <td>28.000</td>\n",
       "      <td>56.000</td>\n",
       "      <td>365.0</td>\n",
       "    </tr>\n",
       "    <tr>\n",
       "      <th>Strength</th>\n",
       "      <td>1030.0</td>\n",
       "      <td>35.817961</td>\n",
       "      <td>16.705742</td>\n",
       "      <td>2.33</td>\n",
       "      <td>23.710</td>\n",
       "      <td>34.445</td>\n",
       "      <td>46.135</td>\n",
       "      <td>82.6</td>\n",
       "    </tr>\n",
       "  </tbody>\n",
       "</table>\n",
       "</div>"
      ],
      "text/plain": [
       "               count        mean         std     min      25%      50%  \\\n",
       "Cement        1030.0  281.167864  104.506364  102.00  192.375  272.900   \n",
       "Slag          1030.0   73.895825   86.279342    0.00    0.000   22.000   \n",
       "Ash           1030.0   54.188350   63.997004    0.00    0.000    0.000   \n",
       "Water         1030.0  181.567282   21.354219  121.80  164.900  185.000   \n",
       "Superplastic  1030.0    6.204660    5.973841    0.00    0.000    6.400   \n",
       "Coarse_agg    1030.0  972.918932   77.753954  801.00  932.000  968.000   \n",
       "Fine_agg      1030.0  773.580485   80.175980  594.00  730.950  779.500   \n",
       "Age           1030.0   45.662136   63.169912    1.00    7.000   28.000   \n",
       "Strength      1030.0   35.817961   16.705742    2.33   23.710   34.445   \n",
       "\n",
       "                   75%     max  \n",
       "Cement         350.000   540.0  \n",
       "Slag           142.950   359.4  \n",
       "Ash            118.300   200.1  \n",
       "Water          192.000   247.0  \n",
       "Superplastic    10.200    32.2  \n",
       "Coarse_agg    1029.400  1145.0  \n",
       "Fine_agg       824.000   992.6  \n",
       "Age             56.000   365.0  \n",
       "Strength        46.135    82.6  "
      ]
     },
     "execution_count": 7,
     "metadata": {},
     "output_type": "execute_result"
    }
   ],
   "source": [
    "df.describe().T"
   ]
  },
  {
   "cell_type": "markdown",
   "metadata": {},
   "source": [
    "# Exploratory Data analysis"
   ]
  },
  {
   "cell_type": "code",
   "execution_count": 8,
   "metadata": {},
   "outputs": [],
   "source": [
    "from scipy import stats"
   ]
  },
  {
   "cell_type": "code",
   "execution_count": 9,
   "metadata": {},
   "outputs": [
    {
     "data": {
      "text/plain": [
       "<matplotlib.axes._subplots.AxesSubplot at 0x18dd34df278>"
      ]
     },
     "execution_count": 9,
     "metadata": {},
     "output_type": "execute_result"
    },
    {
     "data": {
      "image/png": "[encoded data removed]",
      "text/plain": [
       "<Figure size 1080x576 with 1 Axes>"
      ]
     },
     "metadata": {
      "needs_background": "light"
     },
     "output_type": "display_data"
    }
   ],
   "source": [
    "df.boxplot(figsize=(15,8))"
   ]
  },
  {
   "cell_type": "markdown",
   "metadata": {},
   "source": [
    "Here we have an outlier in Slag, Water, Superplastic, Fine_agg, Age."
   ]
  },
  {
   "cell_type": "code",
   "execution_count": 12,
   "metadata": {},
   "outputs": [
    {
     "name": "stdout",
     "output_type": "stream",
     "text": [
      "0.0\n",
      "192.0\n"
     ]
    }
   ],
   "source": [
    "print(df['Slag'].quantile(0.10))\n",
    "print(df['Slag'].quantile(0.90))"
   ]
  },
  {
   "cell_type": "code",
   "execution_count": 13,
   "metadata": {},
   "outputs": [
    {
     "data": {
      "text/plain": [
       "<matplotlib.axes._subplots.AxesSubplot at 0x18dd393f470>"
      ]
     },
     "execution_count": 13,
     "metadata": {},
     "output_type": "execute_result"
    },
    {
     "data": {
      "image/png": "[encoded data removed]",
      "text/plain": [
       "<Figure size 432x288 with 1 Axes>"
      ]
     },
     "metadata": {
      "needs_background": "light"
     },
     "output_type": "display_data"
    }
   ],
   "source": [
    "df[\"Slag\"] = np.where(df[\"Slag\"] <0.0, 0.0,df['Slag'])\n",
    "df[\"Slag\"] = np.where(df[\"Slag\"] >192.0, 192.0,df['Slag'])\n",
    "sns.boxplot(data=df.Slag)"
   ]
  },
  {
   "cell_type": "code",
   "execution_count": 16,
   "metadata": {},
   "outputs": [
    {
     "name": "stdout",
     "output_type": "stream",
     "text": [
      "154.6\n",
      "203.5\n"
     ]
    }
   ],
   "source": [
    "print(df['Water'].quantile(0.10))\n",
    "print(df['Water'].quantile(0.90))"
   ]
  },
  {
   "cell_type": "code",
   "execution_count": 17,
   "metadata": {},
   "outputs": [
    {
     "data": {
      "text/plain": [
       "<matplotlib.axes._subplots.AxesSubplot at 0x18dd3aa16d8>"
      ]
     },
     "execution_count": 17,
     "metadata": {},
     "output_type": "execute_result"
    },
    {
     "data": {
      "image/png": "[encoded data removed]",
      "text/plain": [
       "<Figure size 432x288 with 1 Axes>"
      ]
     },
     "metadata": {
      "needs_background": "light"
     },
     "output_type": "display_data"
    }
   ],
   "source": [
    "#removing outliers\n",
    "df[\"Water\"] = np.where(df[\"Water\"] <154.5, 154.5,df['Water'])\n",
    "df[\"Water\"] = np.where(df[\"Water\"] >203.5, 203.5,df['Water'])\n",
    "sns.boxplot(data=df.Water)"
   ]
  },
  {
   "cell_type": "code",
   "execution_count": 19,
   "metadata": {},
   "outputs": [
    {
     "name": "stdout",
     "output_type": "stream",
     "text": [
      "0.0\n",
      "12.21\n"
     ]
    }
   ],
   "source": [
    "print(df['Superplastic'].quantile(0.10))\n",
    "print(df['Superplastic'].quantile(0.90))"
   ]
  },
  {
   "cell_type": "code",
   "execution_count": 20,
   "metadata": {},
   "outputs": [
    {
     "data": {
      "text/plain": [
       "<matplotlib.axes._subplots.AxesSubplot at 0x18dd3d89470>"
      ]
     },
     "execution_count": 20,
     "metadata": {},
     "output_type": "execute_result"
    },
    {
     "data": {
      "image/png": "[encoded data removed]",
      "text/plain": [
       "<Figure size 432x288 with 1 Axes>"
      ]
     },
     "metadata": {
      "needs_background": "light"
     },
     "output_type": "display_data"
    }
   ],
   "source": [
    "#removing outliers\n",
    "df[\"Superplastic\"] = np.where(df[\"Superplastic\"] <0.0, 0.0,df['Superplastic'])\n",
    "df[\"Superplastic\"] = np.where(df[\"Superplastic\"] >12.21, 12.21,df['Superplastic'])\n",
    "sns.boxplot(data=df.Superplastic)"
   ]
  },
  {
   "cell_type": "code",
   "execution_count": 24,
   "metadata": {},
   "outputs": [
    {
     "name": "stdout",
     "output_type": "stream",
     "text": [
      "664.0699999999999\n",
      "880.7600000000001\n"
     ]
    }
   ],
   "source": [
    "print(df['Fine_agg'].quantile(0.10))\n",
    "print(df['Fine_agg'].quantile(0.90))"
   ]
  },
  {
   "cell_type": "code",
   "execution_count": 25,
   "metadata": {},
   "outputs": [
    {
     "data": {
      "text/plain": [
       "<matplotlib.axes._subplots.AxesSubplot at 0x18dd3eba550>"
      ]
     },
     "execution_count": 25,
     "metadata": {},
     "output_type": "execute_result"
    },
    {
     "data": {
      "image/png": "[encoded data removed]",
      "text/plain": [
       "<Figure size 432x288 with 1 Axes>"
      ]
     },
     "metadata": {
      "needs_background": "light"
     },
     "output_type": "display_data"
    }
   ],
   "source": [
    "#removing outliers\n",
    "df[\"Fine_agg\"] = np.where(df[\"Fine_agg\"] <664.0699999999999, 664.0699999999999,df['Fine_agg'])\n",
    "df[\"Fine_agg\"] = np.where(df[\"Fine_agg\"] >880.76, 880.76,df['Fine_agg'])\n",
    "sns.boxplot(data=df.Fine_agg)"
   ]
  },
  {
   "cell_type": "code",
   "execution_count": 27,
   "metadata": {},
   "outputs": [
    {
     "name": "stdout",
     "output_type": "stream",
     "text": [
      "3.0\n",
      "100.0\n"
     ]
    }
   ],
   "source": [
    "print(df['Age'].quantile(0.10))\n",
    "print(df['Age'].quantile(0.90))"
   ]
  },
  {
   "cell_type": "code",
   "execution_count": 28,
   "metadata": {},
   "outputs": [
    {
     "data": {
      "text/plain": [
       "<matplotlib.axes._subplots.AxesSubplot at 0x18dd3f70f98>"
      ]
     },
     "execution_count": 28,
     "metadata": {},
     "output_type": "execute_result"
    },
    {
     "data": {
      "image/png": "[encoded data removed]",
      "text/plain": [
       "<Figure size 432x288 with 1 Axes>"
      ]
     },
     "metadata": {
      "needs_background": "light"
     },
     "output_type": "display_data"
    }
   ],
   "source": [
    "#removing outliers\n",
    "df[\"Age\"] = np.where(df[\"Age\"] <3.0, 3.0,df['Age'])\n",
    "df[\"Age\"] = np.where(df[\"Age\"] >100.0, 100.0,df['Age'])\n",
    "sns.boxplot(data=df.Age)"
   ]
  },
  {
   "cell_type": "code",
   "execution_count": 34,
   "metadata": {},
   "outputs": [
    {
     "data": {
      "text/plain": [
       "<matplotlib.axes._subplots.AxesSubplot at 0x18dd44e9d30>"
      ]
     },
     "execution_count": 34,
     "metadata": {},
     "output_type": "execute_result"
    },
    {
     "data": {
      "image/png": "[encoded data removed]",
      "text/plain": [
       "<Figure size 1080x576 with 1 Axes>"
      ]
     },
     "metadata": {
      "needs_background": "light"
     },
     "output_type": "display_data"
    }
   ],
   "source": [
    "df.boxplot(figsize=(15,8)) #All outliers are removed"
   ]
  },
  {
   "cell_type": "code",
   "execution_count": 30,
   "metadata": {},
   "outputs": [],
   "source": [
    "df.to_csv(\"Clean.csv\", index = False)"
   ]
  }
 ],
 "metadata": {
  "kernelspec": {
   "display_name": "Python 3",
   "language": "python",
   "name": "python3"
  },
  "language_info": {
   "codemirror_mode": {
    "name": "ipython",
    "version": 3
   },
   "file_extension": ".py",
   "mimetype": "text/x-python",
   "name": "python",
   "nbconvert_exporter": "python",
   "pygments_lexer": "ipython3",
   "version": "3.7.3"
  }
 },
 "nbformat": 4,
 "nbformat_minor": 2
}
